{
 "cells": [
  {
   "attachments": {
    "WhatsApp%20Image%202022-10-12%20at%2016.10.43.jpg": {
     "image/jpeg": "[encoded data removed]"
    }
   },
   "cell_type": "markdown",
   "id": "f6dc2a7d",
   "metadata": {},
   "source": [
    "Assignment Problem :\n",
    "![WhatsApp%20Image%202022-10-12%20at%2016.10.43.jpg](attachment:WhatsApp%20Image%202022-10-12%20at%2016.10.43.jpg)"
   ]
  },
  {
   "cell_type": "code",
   "execution_count": 45,
   "id": "44688f9e",
   "metadata": {},
   "outputs": [],
   "source": [
    "class Car:\n",
    "    def __init__(self, company):\n",
    "        self.company = company\n",
    "        \n",
    "    def company_name(self):\n",
    "        print(f\"Company : {self.company}\")\n",
    "        \n",
    "        \n",
    "class Body(Car):\n",
    "    def __init__(self, company, b_type): \n",
    "        self.b_type = b_type\n",
    "        Car.__init__(self, company)\n",
    "            \n",
    "    def body_type(self):\n",
    "        print(f\"Body Type : {self.b_type}\")\n",
    "        \n",
    "    def info(self):\n",
    "        print(f\"A {self.b_type} manufactured by {self.company}.\")\n",
    "        \n",
    "        \n",
    "class Engine(Body):\n",
    "    def __init__(self, company, b_type, engine, top_speed):\n",
    "        self.engine = engine\n",
    "        self.top_speed = top_speed\n",
    "        Body.__init__(self, company, b_type)\n",
    "        \n",
    "    def performance(self):\n",
    "        print(f\"Engine : {self.engine}\")\n",
    "        print(f\"Top Speed : {self.top_speed}\")\n",
    "        \n",
    "    def info(self):\n",
    "        print(f\"{self.company}'s {self.b_type} packed with {self.engine} having a top speed of {self.top_speed} km/h.\")\n",
    "        \n",
    "        \n",
    "class Transmission(Body) :\n",
    "    def __init__(self, company, b_type, transmission):\n",
    "        self.transmission = transmission\n",
    "        Body.__init__(self, company, b_type)\n",
    "    \n",
    "    def transmission_type(self):\n",
    "        print(f\"Transmission : {self.transmission}\")\n",
    "        \n",
    "    def info(self):\n",
    "        print(f\"{self.transmission} built by {self.company} to manage it's {self.b_type}'s power on wheels.\")\n",
    "        \n",
    "        \n",
    "class Model(Engine, Transmission) :\n",
    "    def __init__(self, company, b_type, engine, top_speed, transmission, model) :\n",
    "        self.model = model\n",
    "        Engine.__init__(self, company, b_type, engine, top_speed)\n",
    "        Transmission.__init__(self, company, b_type, transmission)\n",
    "        \n",
    "    def details(self, color):\n",
    "        print(f\"Car Details :\\n Company : {self.company} \\n Model : {self.model} \\n Color : {color} \\n Body Type : {self.b_type} \\n Engine : {self.engine} \\n Top Speed : {self.top_speed} \\n Transmission : {self.transmission} \\n\")\n",
    "    \n",
    "    def info(self):\n",
    "        print(f\"{self.model} is a {self.b_type} manufactured by {self.company} packed with {self.engine} having a top speed of {self.top_speed} with {self.transmission} for managing the power from engine to wheels.\")"
   ]
  },
  {
   "cell_type": "code",
   "execution_count": 46,
   "id": "593114b6",
   "metadata": {
    "scrolled": true
   },
   "outputs": [
    {
     "name": "stdout",
     "output_type": "stream",
     "text": [
      "Car Details :\n",
      " Company : BMW \n",
      " Model : M5 Competition F90 \n",
      " Color : Blue \n",
      " Body Type : Sedan \n",
      " Engine : 625 HP M TwinPower Turbo 8-cylinder petrol engine \n",
      " Top Speed : 305 \n",
      " Transmission : 8-speed Automatic M Steptronic transmission \n",
      "\n",
      "M5 Competition F90 is a Sedan manufactured by BMW packed with 625 HP M TwinPower Turbo 8-cylinder petrol engine having a top speed of 305 with 8-speed Automatic M Steptronic transmission for managing the power from engine to wheels.\n"
     ]
    }
   ],
   "source": [
    "M5 = Model(\"BMW\", \"Sedan\", \"625 HP M TwinPower Turbo 8-cylinder petrol engine\", \"305\", \"8-speed Automatic M Steptronic transmission\", \"M5 Competition F90\")\n",
    "M5.details(\"Blue\")\n",
    "M5.info()"
   ]
  },
  {
   "cell_type": "code",
   "execution_count": 47,
   "id": "35632426",
   "metadata": {},
   "outputs": [
    {
     "name": "stdout",
     "output_type": "stream",
     "text": [
      "BMW\n",
      "Sedan\n",
      "M5 Competition F90\n",
      "625 HP M TwinPower Turbo 8-cylinder petrol engine\n",
      "8-speed Automatic M Steptronic transmission\n",
      "305\n"
     ]
    }
   ],
   "source": [
    "print(M5.company)\n",
    "print(M5.b_type)\n",
    "print(M5.model)\n",
    "print(M5.engine)\n",
    "print(M5.transmission)\n",
    "print(M5.top_speed)"
   ]
  },
  {
   "cell_type": "code",
   "execution_count": 56,
   "id": "71e3e437",
   "metadata": {},
   "outputs": [
    {
     "name": "stdout",
     "output_type": "stream",
     "text": [
      "Company : BMW\n",
      "Body Type : Sedan\n",
      "Engine : 625 HP M TwinPower Turbo 8-cylinder petrol engine\n",
      "Top Speed : 305\n",
      "Transmission : 8-speed Automatic M Steptronic transmission\n"
     ]
    }
   ],
   "source": [
    "M5.company_name()\n",
    "M5.body_type()\n",
    "M5.performance()\n",
    "M5.transmission_type()"
   ]
  }
 ],
 "metadata": {
  "kernelspec": {
   "display_name": "Python 3 (ipykernel)",
   "language": "python",
   "name": "python3"
  },
  "language_info": {
   "codemirror_mode": {
    "name": "ipython",
    "version": 3
   },
   "file_extension": ".py",
   "mimetype": "text/x-python",
   "name": "python",
   "nbconvert_exporter": "python",
   "pygments_lexer": "ipython3",
   "version": "3.9.7"
  }
 },
 "nbformat": 4,
 "nbformat_minor": 5
}
