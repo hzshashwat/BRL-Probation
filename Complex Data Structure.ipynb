{
 "cells": [
  {
   "cell_type": "markdown",
   "id": "cd0fa779",
   "metadata": {},
   "source": [
    "Assignment Problem : Make a data structure to store complex numbers."
   ]
  },
  {
   "cell_type": "code",
   "execution_count": 74,
   "id": "7e8e453c",
   "metadata": {},
   "outputs": [],
   "source": [
    "class Complex:\n",
    "    def __init__(self, real, imaginary):\n",
    "        self.real = real\n",
    "        self.imaginary = imaginary\n",
    "        \n",
    "    def __str__(self):\n",
    "        A = False\n",
    "        B = False\n",
    "        if type(self.real) is int or type(self.real) is float :\n",
    "            A = True\n",
    "        \n",
    "        if type(self.imaginary) is int or type(self.imaginary) is float :\n",
    "            B = True\n",
    "            \n",
    "        if A and B :\n",
    "            return f\"Complex Number : {self.real} + {self.imaginary}i\"\n",
    "        \n",
    "        else :\n",
    "            return \"Invalid Input \\n\\n\\tComplex numbers are expressed in the form of A + Bi \\n\\twhere, A & B are real numbers.\""
   ]
  },
  {
   "cell_type": "code",
   "execution_count": 67,
   "id": "bcc38426",
   "metadata": {},
   "outputs": [
    {
     "name": "stdout",
     "output_type": "stream",
     "text": [
      "Complex Number : 7 + 9i\n"
     ]
    }
   ],
   "source": [
    "print(Complex(7, 9))"
   ]
  },
  {
   "cell_type": "code",
   "execution_count": 68,
   "id": "f3b8878e",
   "metadata": {},
   "outputs": [
    {
     "name": "stdout",
     "output_type": "stream",
     "text": [
      "Complex Number : 6.4 + 8i\n"
     ]
    }
   ],
   "source": [
    "print(Complex(6.4, 8))"
   ]
  },
  {
   "cell_type": "code",
   "execution_count": 69,
   "id": "f26f200e",
   "metadata": {},
   "outputs": [
    {
     "name": "stdout",
     "output_type": "stream",
     "text": [
      "Complex Number : 2 + 5.3i\n"
     ]
    }
   ],
   "source": [
    "print(Complex(2, 5.3))"
   ]
  },
  {
   "cell_type": "code",
   "execution_count": 70,
   "id": "d48d538f",
   "metadata": {},
   "outputs": [
    {
     "name": "stdout",
     "output_type": "stream",
     "text": [
      "Complex Number : 6.2 + 1.8i\n"
     ]
    }
   ],
   "source": [
    "print(Complex(6.2, 1.8))"
   ]
  },
  {
   "cell_type": "code",
   "execution_count": 71,
   "id": "6b8f602f",
   "metadata": {},
   "outputs": [
    {
     "name": "stdout",
     "output_type": "stream",
     "text": [
      "Invalid Input \n",
      "\n",
      "\tComplex numbers are expressed in the form of A + Bi \n",
      "\twhere, A & B are real numbers.\n"
     ]
    }
   ],
   "source": [
    "print(Complex(\"a\", 9))"
   ]
  },
  {
   "cell_type": "code",
   "execution_count": 72,
   "id": "5d201b0c",
   "metadata": {},
   "outputs": [
    {
     "name": "stdout",
     "output_type": "stream",
     "text": [
      "Invalid Input \n",
      "\n",
      "\tComplex numbers are expressed in the form of A + Bi \n",
      "\twhere, A & B are real numbers.\n"
     ]
    }
   ],
   "source": [
    "print(Complex(7, \"hello\"))"
   ]
  },
  {
   "cell_type": "code",
   "execution_count": 73,
   "id": "547c70e1",
   "metadata": {},
   "outputs": [
    {
     "name": "stdout",
     "output_type": "stream",
     "text": [
      "Invalid Input \n",
      "\n",
      "\tComplex numbers are expressed in the form of A + Bi \n",
      "\twhere, A & B are real numbers.\n"
     ]
    }
   ],
   "source": [
    "print(Complex(\"a\", \"b\"))"
   ]
  }
 ],
 "metadata": {
  "kernelspec": {
   "display_name": "Python 3 (ipykernel)",
   "language": "python",
   "name": "python3"
  },
  "language_info": {
   "codemirror_mode": {
    "name": "ipython",
    "version": 3
   },
   "file_extension": ".py",
   "mimetype": "text/x-python",
   "name": "python",
   "nbconvert_exporter": "python",
   "pygments_lexer": "ipython3",
   "version": "3.9.7"
  }
 },
 "nbformat": 4,
 "nbformat_minor": 5
}
